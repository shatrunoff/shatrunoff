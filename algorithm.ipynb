{
 "cells": [
  {
   "cell_type": "markdown",
   "metadata": {},
   "source": [
    "# Алгоритм дейкстры"
   ]
  },
  {
   "cell_type": "code",
   "execution_count": 2,
   "metadata": {},
   "outputs": [],
   "source": [
    "graph = {}\n",
    "graph['start'] = {}\n",
    "graph['start']['a'] = 6\n",
    "graph['start']['b'] = 2\n",
    "graph['a'] = {}\n",
    "graph['a']['final'] = 1\n",
    "graph['b'] = {}\n",
    "graph['b']['a'] = 3\n",
    "graph['b']['final'] = 5\n",
    "graph['final'] = {}\n",
    "infinity = float('inf')\n",
    "\n",
    "costs = {}\n",
    "costs['a'] = 6\n",
    "costs['b'] = 2\n",
    "costs['final'] = infinity\n",
    "\n",
    "parents = {}\n",
    "parents['a'] = 'start'\n",
    "parents['b'] = 'start'\n",
    "parents['in'] = None\n",
    "processed = []\n",
    "def find_low_cost_node(costs):\n",
    "    lowest_cost = float('inf')\n",
    "    lowest_cost_node = None\n",
    "    for node in costs:\n",
    "        cost = costs[node]\n",
    "        if cost < lowest_cost and node not in processed:\n",
    "            lowest_cost = cost\n",
    "            lowest_cost_node = node\n",
    "        return lowest_cost_node\n",
    "\n",
    "node = find_low_cost_node(costs)\n",
    "while node is not None:\n",
    "    cost = costs[node]\n",
    "    neighbors = graph[node]\n",
    "    for n in neighbors.keys():\n",
    "        new_cost = cost + neighbors[n]\n",
    "        if costs[n] > new_cost:\n",
    "            costs[n] = new_cost\n",
    "            parents[n] = node\n",
    "    processed.append(node)\n",
    "    node = find_low_cost_node(costs)\n"
   ]
  },
  {
   "cell_type": "markdown",
   "metadata": {},
   "source": [
    "# Бинарный поиск"
   ]
  },
  {
   "cell_type": "code",
   "execution_count": 6,
   "metadata": {},
   "outputs": [
    {
     "name": "stdout",
     "output_type": "stream",
     "text": [
      "5\n"
     ]
    }
   ],
   "source": [
    "c = [1, 2, 3, 5, 6, 7, 8, 9]\n",
    "def binary_search(c, item):\n",
    "    low = 0\n",
    "    high = len(c) - 1\n",
    "    while low <= high:\n",
    "        mid = (low + high) // 2\n",
    "        guess = c[mid]\n",
    "        if guess == item:\n",
    "            return mid\n",
    "        if guess > item:\n",
    "            high = mid - 1\n",
    "        else:\n",
    "            low = mid + 1\n",
    "    return None\n",
    "\n",
    "print(binary_search(c, 7))"
   ]
  },
  {
   "cell_type": "code",
   "execution_count": 10,
   "metadata": {},
   "outputs": [],
   "source": [
    "def left_bound(A, key):\n",
    "    left = -1\n",
    "    right = len(A)\n",
    "    while right - left > 1:\n",
    "      middle = (left - right) // 2\n",
    "      if A[middle] < key:\n",
    "          left = middle\n",
    "      else:\n",
    "          right = middle\n",
    "    return left\n",
    "\n",
    "def right_bound(A, key):\n",
    "    left = -1\n",
    "    right = len(A)\n",
    "    while right - left > 1:\n",
    "      middle = (left - right) // 2\n",
    "      if A[middle] <= key:\n",
    "          left = middle\n",
    "      else:\n",
    "          right = middle\n",
    "    return right"
   ]
  },
  {
   "cell_type": "markdown",
   "metadata": {},
   "source": [
    "# Быстрая сортировка"
   ]
  },
  {
   "cell_type": "code",
   "execution_count": 1,
   "metadata": {},
   "outputs": [
    {
     "name": "stdout",
     "output_type": "stream",
     "text": [
      "[1, 2, 3, 4]\n"
     ]
    }
   ],
   "source": [
    "def quick_sort(array):\n",
    "    if len(array) < 2:\n",
    "        return array\n",
    "    else:\n",
    "        support = array[0]\n",
    "        low = [i for i in array[1:] if i <= support]\n",
    "        high = [i for i in array[1:] if i > support]\n",
    "        return quick_sort(low) + [support] + quick_sort(high)\n",
    "\n",
    "print(quick_sort([4, 2, 1, 3]))\n",
    "\n"
   ]
  },
  {
   "cell_type": "markdown",
   "metadata": {},
   "source": [
    "# Графы, поиск в ширину"
   ]
  },
  {
   "cell_type": "code",
   "execution_count": 2,
   "metadata": {},
   "outputs": [
    {
     "name": "stdout",
     "output_type": "stream",
     "text": [
      "alice!!!!yes!!!!\n"
     ]
    },
    {
     "data": {
      "text/plain": [
       "True"
      ]
     },
     "execution_count": 2,
     "metadata": {},
     "output_type": "execute_result"
    }
   ],
   "source": [
    "graph = {}\n",
    "\n",
    "graph['you'] = ['alice', 'bob', 'claire']\n",
    "graph['bob'] = ['anuj', 'peggy']\n",
    "graph['alice'] = ['peggy']\n",
    "graph['claire'] = ['thom', 'jonny']\n",
    "graph['anuj'] = []\n",
    "graph['peggy'] = []\n",
    "graph['thom'] = []\n",
    "graph['jonny'] = []\n",
    "\n",
    "from collections import deque\n",
    "\n",
    "def person_is_seller(name):\n",
    "    return len(name) == 5\n",
    "\n",
    "def search(name):\n",
    "    search_queue = deque()\n",
    "    search_queue += graph[name]\n",
    "    searched = []\n",
    "    while search_queue:\n",
    "        person = search_queue.popleft()\n",
    "        if not person in searched:\n",
    "            if person_is_seller(person):\n",
    "                print(person + '!!!!yes!!!!')\n",
    "                return True\n",
    "            else:\n",
    "                search_queue += graph[person]\n",
    "                searched.append(person)\n",
    "    return print('no')\n",
    "\n",
    "search('you')"
   ]
  },
  {
   "cell_type": "markdown",
   "metadata": {},
   "source": [
    "# Динамическое программирование"
   ]
  },
  {
   "cell_type": "code",
   "execution_count": 1,
   "metadata": {},
   "outputs": [
    {
     "name": "stdout",
     "output_type": "stream",
     "text": [
      "[0, 0, 0]\n",
      "[1, 0, 0]\n",
      "1\n"
     ]
    }
   ],
   "source": [
    "word_a = '21'\n",
    "word_b = '1'\n",
    "maximum = 0\n",
    "cell = [[0] * (len(word_a)+1) for i in range(len(word_b)+1)]\n",
    "\n",
    "for i in range(len(word_a)):\n",
    "    for j in range(len(word_b)):\n",
    "        if word_a[i] == word_b[j]:\n",
    "            cell[i][j] = cell[i-1][j-1] + 1\n",
    "        else:\n",
    "            cell[i][j] = max(cell[i-1][j], cell[i][j-1])\n",
    "\n",
    "        maximum = max(cell[i][j], maximum)\n",
    "for i in cell:\n",
    "    print(i)\n",
    "\n",
    "print(maximum)"
   ]
  },
  {
   "cell_type": "code",
   "execution_count": 12,
   "metadata": {},
   "outputs": [
    {
     "name": "stdout",
     "output_type": "stream",
     "text": [
      "6\n",
      "3\n"
     ]
    }
   ],
   "source": [
    "A = [2, 3, 4, 5, 6, 7]\n",
    "B = [1, 2, 3, 4]\n",
    "#наибольшая возрастающая подпоследовательность\n",
    "\n",
    "\n",
    "def lcs(A, B):\n",
    "    F = [[0] * (len(B) + 1) for i in range(len(A)+1)]\n",
    "    for i in range(1, len(A) + 1):\n",
    "        for j in range(1, len(B) + 1):\n",
    "            if A[i-1] == B[j-1]:\n",
    "                F[i][j] = 1 + F[i-1][j-1]\n",
    "            else:\n",
    "                F[i][j] = max(F[i-1][j], F[i][j-1])\n",
    "    return F[-1][-1]\n",
    "\n",
    "\n",
    "def gis(A):\n",
    "    F = [0] * len(A)\n",
    "    for i in range(len(A)):\n",
    "        m = 0\n",
    "        for j in range(i):\n",
    "            if A[i] > A[j] and F[j] > m:\n",
    "                m = F[j]\n",
    "        F[i] = m + 1\n",
    "    return max(*F)\n",
    "\n",
    "\n",
    "\n",
    "\n",
    "print(gis(A))\n",
    "print(lcs(A, B))\n"
   ]
  },
  {
   "cell_type": "code",
   "execution_count": 14,
   "metadata": {},
   "outputs": [
    {
     "name": "stdout",
     "output_type": "stream",
     "text": [
      "55\n"
     ]
    }
   ],
   "source": [
    "n = 10\n",
    "fib = [0, 1] + [0] * (n - 1)\n",
    "for i in range(2, n+1):\n",
    "    fib[i] = fib[i - 1] + fib[i - 2]\n",
    "print(fib[n])"
   ]
  },
  {
   "cell_type": "code",
   "execution_count": 15,
   "metadata": {},
   "outputs": [],
   "source": [
    "\"задача про кузнечика\"\n",
    "\n",
    "def trajectory(n):\n",
    "    K = [0, 1] + [0] * n\n",
    "    for i in range(2, n + 1):\n",
    "        K[i] = K[i-2] + K[i-1]\n",
    "    return K[n]\n",
    "\n",
    "def count_trajectory(N, allowed:list):\n",
    "    K = [0, 1, int(allowed[2])] + [0] * (N - 3)\n",
    "    for i in  range(3, N + 1):\n",
    "        if allowed[i]:\n",
    "            K[i] = K[i - 1] + K[i-2] + K[i - 3]\n",
    "\n",
    "\"C[i] - мин стоимость\" \\\n",
    "\"price[i] - цена за посещение клетки\"\n",
    "\n",
    "def count_min_cost(N, price:list):\n",
    "    C = [float(\"-inf\"), price[1], price[1] + price[2] + [0] * (N - 2)]\n",
    "    for i in range(3, N + 1):\n",
    "        C[i] = price[i] + min(C[i - 1], C[i - 2])\n",
    "    return C[N]\n"
   ]
  },
  {
   "cell_type": "code",
   "execution_count": 16,
   "metadata": {},
   "outputs": [
    {
     "name": "stdout",
     "output_type": "stream",
     "text": [
      "['bike_stand', 'garbage_can', 'standing_lamp', 'chest_of_drawers', 'plant_3', 'plant_2', 'diner_table_with_chairs', 'bookshelf', 'armchair', 'table', 'desk', 'bed', 'couch_s']\n"
     ]
    }
   ],
   "source": [
    "\n",
    "stuffdict = {'couch_s':(300,75),\n",
    "             'couch_b':(500,80),\n",
    "             'bed':(400,100),\n",
    "             'closet':(200,50),\n",
    "             'bed_s':(200,40),\n",
    "             'desk':(200,70),\n",
    "             'table':(300,80),\n",
    "             'tv_table':(200,30),\n",
    "             'armchair':(100,30),\n",
    "             'bookshelf':(200,60),\n",
    "             'cabinet':(150,20),\n",
    "             'game_table':(150,30),\n",
    "             'hammock':(250,45),\n",
    "             'diner_table_with_chairs':(250,70),\n",
    "             'stools':(150,30),\n",
    "             'mirror':(100,20),\n",
    "             'instrument':(300,70),\n",
    "             'plant_1':(25,10),\n",
    "             'plant_2':(30,20),\n",
    "             'plant_3':(45,25),\n",
    "             'sideboard':(175,30),\n",
    "             'chest_of_drawers':(25,40),\n",
    "             'guest_bed':(250,40),\n",
    "             'standing_lamp':(20,30),\n",
    "             'garbage_can':(30,35),\n",
    "             'bar_with_stools':(200,40),\n",
    "             'bike_stand':(100,80),\n",
    "             'chest':(150,25),\n",
    "             'heater':(100,25)\n",
    "            }\n",
    "\n",
    "def get_area_value(stuffdict):\n",
    "    area = [stuffdict[item][0] for item in stuffdict]\n",
    "    value = [stuffdict[item][1] for item in stuffdict]\n",
    "    return area, value\n",
    "\n",
    "def get_memtable(stuffdict, A=2000):\n",
    "    area, value = get_area_value(stuffdict)\n",
    "    n = len(value)\n",
    "    V = [[0 for a in range(A + 1)] for i in range(n + 1)]\n",
    "    for i in range(n + 1):\n",
    "        for a in range(A + 1):\n",
    "            if i == 0 or a == 0:\n",
    "                V[i][a] = 0\n",
    "            elif area[i - 1] <= a:\n",
    "                V[i][a] = max(value[i-1] + V[i-1][a-area[i-1]], V[i-1][a])\n",
    "            else:\n",
    "                V[i][a] = V[i-1][a]\n",
    "    return V, area, value\n",
    "\n",
    "def get_items(stuffdict, A=2000):\n",
    "    V, area, value = get_memtable(stuffdict)\n",
    "    n = len(value)\n",
    "    res = V[n][A]\n",
    "    a = A\n",
    "    item_list = []\n",
    "\n",
    "    for i in range(n, 0, -1):\n",
    "        if res <= 0:\n",
    "            break\n",
    "        if res == V[i-1][a]:\n",
    "            continue\n",
    "        else:\n",
    "            item_list.append((area[i-1], value[i-1]))\n",
    "            res -= value[i-1]\n",
    "            a -=area[i-1]\n",
    "\n",
    "    selected_staff = []\n",
    "\n",
    "    for search in item_list:\n",
    "        for key, value in stuffdict.items():\n",
    "            if value == search:\n",
    "                selected_staff.append(key)\n",
    "    return selected_staff\n",
    "\n",
    "stuff = get_items(stuffdict)\n",
    "print(stuff)"
   ]
  },
  {
   "cell_type": "code",
   "execution_count": 20,
   "metadata": {},
   "outputs": [
    {
     "name": "stdout",
     "output_type": "stream",
     "text": [
      "1307674368000\n"
     ]
    }
   ],
   "source": [
    "def factorial(n):\n",
    "    assert n >= 0, 'факториал не определен'\n",
    "    if n == 0:\n",
    "        return 1\n",
    "    return factorial(n-1) * n\n",
    "\n",
    "print(factorial(15))"
   ]
  },
  {
   "cell_type": "markdown",
   "metadata": {},
   "source": [
    "# Рекурсия"
   ]
  },
  {
   "cell_type": "code",
   "execution_count": 3,
   "metadata": {},
   "outputs": [
    {
     "name": "stdout",
     "output_type": "stream",
     "text": [
      "6\n"
     ]
    }
   ],
   "source": [
    "def fact(x):\n",
    "    if x == 1:\n",
    "        return 1\n",
    "    else:\n",
    "        return x * fact(x - 1)\n",
    "\n",
    "print(fact(3))"
   ]
  },
  {
   "cell_type": "code",
   "execution_count": 31,
   "metadata": {},
   "outputs": [],
   "source": [
    "def requrse_sort(A):\n",
    "    if  len(A) <= 1:\n",
    "        return\n",
    "    middle = len(A) // 2\n",
    "    L = [A[i] for i in range(0, middle)]\n",
    "    R = [A[i] for i in range(middle, len(A))]\n",
    "    requrse_sort(L)\n",
    "    requrse_sort(R)"
   ]
  },
  {
   "cell_type": "markdown",
   "metadata": {},
   "source": [
    "# Сортировка с выбором"
   ]
  },
  {
   "cell_type": "code",
   "execution_count": 4,
   "metadata": {},
   "outputs": [
    {
     "name": "stdout",
     "output_type": "stream",
     "text": [
      "['c', 'hell', 'kek', 'lol']\n"
     ]
    }
   ],
   "source": [
    "def find_smallest(arr):\n",
    "    smallest = arr[0]\n",
    "    smallest_index = 0\n",
    "    for i in range(1, len(arr)):\n",
    "        if arr[i] < smallest:\n",
    "            smallest = arr[i]\n",
    "            smallest_index = i\n",
    "    return smallest_index\n",
    "\n",
    "def selection_sort(arr):\n",
    "    new_arr = []\n",
    "    for i in range(len(arr)):\n",
    "        smallest = find_smallest(arr)\n",
    "        new_arr.append(arr.pop(smallest))\n",
    "    return new_arr\n",
    "\n",
    "print(selection_sort(['hell', 'lol', 'kek', 'c']))"
   ]
  },
  {
   "cell_type": "markdown",
   "metadata": {},
   "source": [
    "# Хэш-таблица"
   ]
  },
  {
   "cell_type": "code",
   "execution_count": 5,
   "metadata": {},
   "outputs": [],
   "source": [
    "book = dict()\n",
    "\n",
    "book['a'] = 1\n",
    "book['b'] = 2\n",
    "book['c'] = 3\n",
    "book['d'] = 4\n",
    "book['e'] = 5\n",
    "\n",
    "\n",
    "def check_item(item):\n",
    "    if book.get(item):\n",
    "        print('no')\n",
    "    else:\n",
    "        book[item] = True\n",
    "        print('yes')"
   ]
  },
  {
   "cell_type": "markdown",
   "metadata": {},
   "source": [
    "# Равенство строк"
   ]
  },
  {
   "cell_type": "code",
   "execution_count": 6,
   "metadata": {},
   "outputs": [
    {
     "name": "stdout",
     "output_type": "stream",
     "text": [
      "True\n"
     ]
    }
   ],
   "source": [
    "A = 'object'\n",
    "B = 'object'\n",
    "\n",
    "def equal(A, B):\n",
    "    if len(A) != len(B):\n",
    "        return False\n",
    "    for i in range(len(A)):\n",
    "        if A[i] != B[i]:\n",
    "            return False\n",
    "    return True\n",
    "\n",
    "print(equal(A, B))"
   ]
  },
  {
   "cell_type": "markdown",
   "metadata": {},
   "source": [
    "# Cуффиксы"
   ]
  },
  {
   "cell_type": "code",
   "execution_count": 8,
   "metadata": {},
   "outputs": [
    {
     "name": "stdout",
     "output_type": "stream",
     "text": [
      "-1\n"
     ]
    }
   ],
   "source": [
    "s = 'abcdabcabcdabcdab'\n",
    "t = 'acacacacacac'\n",
    "\n",
    "def prefix(s):\n",
    "    v = [0] * len(s)\n",
    "    for i in range(1, len(s)):\n",
    "        k = v[i - 1]\n",
    "        while k > 0 and s[k] != s[i]:\n",
    "            k = v[k - 1]\n",
    "        if s[k] == s[i]:\n",
    "            k = k + 1\n",
    "        v[i] = k\n",
    "    return v\n",
    "\n",
    "# алгоритм кнута морриса пратта\n",
    "\n",
    "def kmp(s, t):\n",
    "    index = -1\n",
    "    f = prefix(s)\n",
    "    k = 0\n",
    "    for i in range(len(t)):\n",
    "        while k > 0 and s[k] != t[i]:\n",
    "            k = f[k - 1]\n",
    "        if s[k] == t[i]:\n",
    "            k = k + 1\n",
    "        if k == len(s):\n",
    "            index = i - len(S) + 1\n",
    "            break\n",
    "    return index\n",
    "\n",
    "print(kmp(s,t))"
   ]
  },
  {
   "cell_type": "markdown",
   "metadata": {},
   "source": [
    "# Алгоритм Евклида"
   ]
  },
  {
   "cell_type": "code",
   "execution_count": 9,
   "metadata": {},
   "outputs": [
    {
     "name": "stdout",
     "output_type": "stream",
     "text": [
      "17 17 17\n"
     ]
    }
   ],
   "source": [
    "def algoritm_evklida1(a, b):\n",
    "    if a == b:\n",
    "        return a\n",
    "    elif a > b:\n",
    "        return algoritm_evklida1(a-b, b)\n",
    "    else:\n",
    "        return algoritm_evklida1(a, b-a)\n",
    "\n",
    "\n",
    "def algoritm_evklida2(a, b):\n",
    "    if b == 0:\n",
    "        return a\n",
    "    else:\n",
    "        return algoritm_evklida2(b, a % b)\n",
    "\n",
    "\n",
    "def algoritm_evklida3(a, b):\n",
    "    return a if b == 0 else algoritm_evklida3(b, a % b)\n",
    "\n",
    "\n",
    "print(algoritm_evklida1(17,34), algoritm_evklida2(17, 34), (algoritm_evklida3(17,34)))"
   ]
  },
  {
   "cell_type": "markdown",
   "metadata": {},
   "source": [
    "# Проверка сортировки"
   ]
  },
  {
   "cell_type": "code",
   "execution_count": 11,
   "metadata": {},
   "outputs": [],
   "source": [
    "def check_sorted(A, ascending=True):\n",
    "    flag = True\n",
    "    s = 2 * int(ascending) - 1\n",
    "    for i in range(0, N-1):\n",
    "        if s * A[i] > s * A[i+1]:\n",
    "            flag = False\n",
    "            break\n",
    "    return flag"
   ]
  },
  {
   "cell_type": "markdown",
   "metadata": {},
   "source": [
    "# Быстрое возведение в степень"
   ]
  },
  {
   "cell_type": "code",
   "execution_count": 22,
   "metadata": {},
   "outputs": [
    {
     "name": "stdout",
     "output_type": "stream",
     "text": [
      "1152921504606846976\n"
     ]
    }
   ],
   "source": [
    "def fast_stepen(a, n):\n",
    "    if n == 0:\n",
    "        return 1\n",
    "    elif n % 2 == 1:\n",
    "        return fast_stepen(a, n - 1) * a\n",
    "    else:\n",
    "        return fast_stepen(a**2, n // 2)\n",
    "\n",
    "print(fast_stepen(4,30))"
   ]
  },
  {
   "cell_type": "markdown",
   "metadata": {},
   "source": [
    "# Генератор перестановок"
   ]
  },
  {
   "cell_type": "code",
   "execution_count": 24,
   "metadata": {},
   "outputs": [
    {
     "name": "stdout",
     "output_type": "stream",
     "text": [
      "1 2\n",
      "2 1\n"
     ]
    }
   ],
   "source": [
    "def find(number, A):\n",
    "    for x in A:\n",
    "        if number == x:\n",
    "            return True\n",
    "    return False\n",
    "\n",
    "def generate_perestanovki(N, M=-1, prefix=None):\n",
    "    \"все перестановки N чисел в М позициях\"\n",
    "    M = N if M == -1 else M\n",
    "    prefix = prefix or []\n",
    "    if M == 0:\n",
    "        print(*prefix)\n",
    "        return\n",
    "    for number in range(1, N+1):\n",
    "        if find(number, prefix):\n",
    "            continue\n",
    "        prefix.append(number)\n",
    "        generate_perestanovki(N, M-1, prefix)\n",
    "        prefix.pop()\n",
    "\n",
    "generate_perestanovki(2)"
   ]
  },
  {
   "cell_type": "markdown",
   "metadata": {},
   "source": [
    "# Ханойские башни"
   ]
  },
  {
   "cell_type": "code",
   "execution_count": 25,
   "metadata": {},
   "outputs": [
    {
     "name": "stdout",
     "output_type": "stream",
     "text": [
      "1 перешла в  2\n",
      "1 перешла в  3\n",
      "2 перешла в  3\n",
      "1 перешла в  2\n",
      "3 перешла в  1\n",
      "3 перешла в  2\n",
      "1 перешла в  2\n",
      "1 перешла в  3\n",
      "2 перешла в  3\n",
      "2 перешла в  1\n",
      "3 перешла в  1\n",
      "2 перешла в  3\n",
      "1 перешла в  2\n",
      "1 перешла в  3\n",
      "2 перешла в  3\n",
      "None\n"
     ]
    }
   ],
   "source": [
    "def hanoi_tower(n, k, i):\n",
    "    if n == 0:\n",
    "        return\n",
    "    tmp = 6 - k - i\n",
    "    hanoi_tower(n-1, k, tmp)\n",
    "    print(k, \"перешла в \", i)\n",
    "    hanoi_tower(n-1, tmp, i)\n",
    "\n",
    "print(hanoi_tower(4, 1, 3))"
   ]
  },
  {
   "cell_type": "markdown",
   "metadata": {},
   "source": [
    "# Максимум с индексом"
   ]
  },
  {
   "cell_type": "code",
   "execution_count": null,
   "metadata": {},
   "outputs": [],
   "source": [
    "a = input().split()\n",
    "num = a[0]\n",
    "index = 0\n",
    "\n",
    "for i in range(1, len(a)):\n",
    "    if int(a[i]) > int(a[index]):\n",
    "        num = a[i]\n",
    "        index = i\n",
    "print(num, index)"
   ]
  },
  {
   "cell_type": "markdown",
   "metadata": {},
   "source": [
    "# Минимум, максимум"
   ]
  },
  {
   "cell_type": "code",
   "execution_count": 29,
   "metadata": {},
   "outputs": [
    {
     "name": "stdout",
     "output_type": "stream",
     "text": [
      "1 -1 2 4 3 14\n"
     ]
    }
   ],
   "source": [
    "a = [1, 14, 2, 4, 3, -1]\n",
    "imax = a.index(max(a))\n",
    "imin = a.index(min(a))\n",
    "a[imax], a[imin] = a[imin], a[imax]\n",
    "print(' '.join([str(i) for i in a]))"
   ]
  },
  {
   "cell_type": "markdown",
   "metadata": {},
   "source": [
    "# Растояние Левенштейна"
   ]
  },
  {
   "cell_type": "code",
   "execution_count": 30,
   "metadata": {},
   "outputs": [
    {
     "name": "stdout",
     "output_type": "stream",
     "text": [
      "1\n"
     ]
    }
   ],
   "source": [
    "#минимальное редакционное расстояние между строками\n",
    "A = 'molok0'\n",
    "B = 'moloko'\n",
    "\n",
    "def levenshtein(A, B):\n",
    "    F = [[(i + j) if i * j == 0 else 0 for j in range(len(B)+1)] for i in range(len(A)+1)]\n",
    "    for i in range(1, len(A) + 1):\n",
    "        for j in range(1, len(B) + 1):\n",
    "            if A[i - 1] == B[j - 1]:\n",
    "                F[i][j] = F[i - 1][j - 1]\n",
    "            else:\n",
    "                F[i][j] = 1 + min(F[i - 1][j], F[i][j - 1], F[i - 1][j - 1])\n",
    "    return F[len(A)][len(B)]\n",
    "\n",
    "print(levenshtein(A, B))"
   ]
  },
  {
   "cell_type": "markdown",
   "metadata": {},
   "source": [
    "# Сортировка с подсчетом"
   ]
  },
  {
   "cell_type": "code",
   "execution_count": 32,
   "metadata": {},
   "outputs": [
    {
     "name": "stdout",
     "output_type": "stream",
     "text": [
      "[1, 8, 0, 3, 1, 0, 0, 0, 0, 0]\n"
     ]
    }
   ],
   "source": [
    "# count_sort - сортировка подсчетом\n",
    "A = [1,1,1,1,1,1,1,1,0,3,3,3,4]\n",
    "F = [0] * 10\n",
    "k = 0\n",
    "count_number = 0\n",
    "for i in range(len(A)):\n",
    "    for k in range(10):\n",
    "        if A[i] == k:\n",
    "            F[k] += 1\n",
    "        k += 1\n",
    "        \n",
    "print(F)"
   ]
  },
  {
   "cell_type": "code",
   "execution_count": 33,
   "metadata": {},
   "outputs": [
    {
     "name": "stdout",
     "output_type": "stream",
     "text": [
      "тестирование: алгоритм сортировки вставками\n",
      "test 1: OK\n",
      "test 2: OK\n",
      "test 3: OK\n",
      "тестирование: алгоритм сортировки выбором\n",
      "test 1: OK\n",
      "test 2: OK\n",
      "test 3: OK\n",
      "тестирование: алгоритм сортировки пузырьком\n",
      "test 1: OK\n",
      "test 2: OK\n",
      "test 3: OK\n"
     ]
    }
   ],
   "source": [
    "def insert_sort(A):\n",
    "    \"алгоритм сортировки вставками\"\n",
    "    for top in range(1, len(A)):\n",
    "        k = top\n",
    "        while k > 0 and A[k-1] > A[k]:\n",
    "            A[k], A[k-1] = A[k-1], A[k]\n",
    "            k -= 1\n",
    "\n",
    "def choise_sort(A):\n",
    "    \"алгоритм сортировки выбором\"\n",
    "    for pos in range(0, len(A)-1):\n",
    "        for k in range(pos+1, len(A)):\n",
    "            if A[k] < A[pos]:\n",
    "                A[k], A[pos] = A[pos], A[k]\n",
    "\n",
    "def bubble_sort(A):\n",
    "    \"алгоритм сортировки пузырьком\"\n",
    "    for prohod in range(1, len(A)):\n",
    "        for k in range(0, len(A)-prohod):\n",
    "            if A[k] > A[k+1]:\n",
    "                A[k], A[k+1] = A[k+1], A[k]\n",
    "\n",
    "def test_sort(sort_algoritm):\n",
    "    print(\"тестирование:\", sort_algoritm.__doc__)\n",
    "    print(\"test 1: \", end=\"\")\n",
    "    A = [4, 2, 5, 1, 3]\n",
    "    A_sorted = [1, 2, 3, 4, 5]\n",
    "    sort_algoritm(A)\n",
    "    print('OK' if A == A_sorted else \"Fail\")\n",
    "\n",
    "    print(\"test 2: \", end=\"\")\n",
    "    A = list(range(10,20)) + list(range(0, 10))\n",
    "    A_sorted = list(range(20))\n",
    "    sort_algoritm(A)\n",
    "    print('OK' if A == A_sorted else \"Fail\")\n",
    "\n",
    "    print(\"test 3: \", end=\"\")\n",
    "    A = [4, 2, 4, 2, 1]\n",
    "    A_sorted = [1, 2, 2, 4, 4]\n",
    "    sort_algoritm(A)\n",
    "    print('OK' if A == A_sorted else \"Fail\")\n",
    "\n",
    "test_sort(insert_sort)\n",
    "test_sort(choise_sort)\n",
    "test_sort(bubble_sort)"
   ]
  },
  {
   "cell_type": "markdown",
   "metadata": {},
   "source": [
    "# Сортировка слиянием"
   ]
  },
  {
   "cell_type": "code",
   "execution_count": 34,
   "metadata": {},
   "outputs": [
    {
     "name": "stdout",
     "output_type": "stream",
     "text": [
      "[1, 2, 3, 4, 5, 6, 7, 8, 10, 12]\n"
     ]
    }
   ],
   "source": [
    "\"i - индекс А, k - индекс B, n - индекс C\"\n",
    "def sort(A, B):\n",
    "    C = [0] * (len(A) + len(B))\n",
    "    i = k = n = 0\n",
    "    while i < len(A) and k < len(B):\n",
    "        if A[i] <= B[k]:\n",
    "            C[n] = A[i]\n",
    "            i += 1\n",
    "            n += 1\n",
    "        else:\n",
    "            C[n] = B[k]\n",
    "            k += 1\n",
    "            n += 1\n",
    "\n",
    "    while i < len(A):\n",
    "        C[n] = A[i]\n",
    "        i += 1\n",
    "        n += 1\n",
    "    while k < len(B):\n",
    "        C[n] = B[k]\n",
    "        k += 1\n",
    "        n += 1\n",
    "    return C\n",
    "\n",
    "print(sort([1, 3, 5, 7], [2, 4, 6, 8, 10, 12]))"
   ]
  },
  {
   "cell_type": "markdown",
   "metadata": {},
   "source": [
    "# Сортировка Тони Хоара"
   ]
  },
  {
   "cell_type": "code",
   "execution_count": 35,
   "metadata": {},
   "outputs": [
    {
     "name": "stdout",
     "output_type": "stream",
     "text": [
      "[1, 2, 2, 4, 5, 5, 7]\n"
     ]
    }
   ],
   "source": [
    "A = [2, 4, 5, 1, 5, 7, 2]\n",
    "\n",
    "def hoar_sort(A):\n",
    "    if len(A) <= 1:\n",
    "        return\n",
    "    barrier = A[0]\n",
    "    L = []\n",
    "    M = []\n",
    "    R = []\n",
    "    for x in A:\n",
    "        if x < barrier:\n",
    "            L.append(x)\n",
    "        elif x == barrier:\n",
    "            M.append(x)\n",
    "        else:\n",
    "            R.append(x)\n",
    "    hoar_sort(L)\n",
    "    hoar_sort(R)\n",
    "    k = 0\n",
    "    for x in L + M + R:\n",
    "        A[k] = x\n",
    "        k += 1\n",
    "    return A\n",
    "\n",
    "hoar_sort(A)\n",
    "print(A)"
   ]
  },
  {
   "cell_type": "markdown",
   "metadata": {},
   "source": [
    "# Поиск элементов, которые больше двух соседей"
   ]
  },
  {
   "cell_type": "code",
   "execution_count": 41,
   "metadata": {},
   "outputs": [
    {
     "name": "stdout",
     "output_type": "stream",
     "text": [
      "1\n"
     ]
    }
   ],
   "source": [
    "a = input().split()\n",
    "k = 0\n",
    "for i in range(1, len(a)-1):\n",
    "    if int(a[i - 1]) < int(a[i]) > int(a[i + 1]):\n",
    "        k += 1\n",
    "print(k)"
   ]
  },
  {
   "cell_type": "markdown",
   "metadata": {},
   "source": [
    "# Побочная диагональ"
   ]
  },
  {
   "cell_type": "code",
   "execution_count": 37,
   "metadata": {},
   "outputs": [
    {
     "name": "stdout",
     "output_type": "stream",
     "text": [
      "0 0 1\n",
      "0 1 2\n",
      "1 2 2\n"
     ]
    }
   ],
   "source": [
    "n = int(input())\n",
    "\n",
    "A = [[0] * n for i in range(n)]\n",
    "\n",
    "for i in range(n):\n",
    "    for j in range(n):\n",
    "        A[i][n-1-i] = 1\n",
    "        if (i+j) > n -1:\n",
    "            A[i][j] = 2\n",
    "\n",
    "\n",
    "\n",
    "for row in A:\n",
    "    print(' '.join([str(elem) for elem in row]))"
   ]
  },
  {
   "cell_type": "markdown",
   "metadata": {},
   "source": [
    "# Снежинка"
   ]
  },
  {
   "cell_type": "code",
   "execution_count": 36,
   "metadata": {},
   "outputs": [
    {
     "name": "stdout",
     "output_type": "stream",
     "text": [
      "* * *\n",
      "* * *\n",
      "* * *\n"
     ]
    }
   ],
   "source": [
    "n = int(input())\n",
    "\n",
    "A = [[\".\"] * n for i in range(n)]\n",
    "\n",
    "for i in range(n):\n",
    "    for j in range(n):\n",
    "        A[i][i] = \"*\"\n",
    "        A[n//2][j] = '*'\n",
    "        A[i][n//2] = '*'\n",
    "        A[i][n - i - 1] = '*'\n",
    "\n",
    "for row in A:\n",
    "    print(' '.join([str(elem) for elem in row]))"
   ]
  },
  {
   "cell_type": "code",
   "execution_count": 66,
   "metadata": {},
   "outputs": [
    {
     "name": "stdout",
     "output_type": "stream",
     "text": [
      "* . . . * . . . *\n",
      ". * . . * . . * .\n",
      ". . * . * . * . .\n",
      ". . . * * * . . .\n",
      "* * * * * * * * *\n",
      ". . . * * * . . .\n",
      ". . * . * . * . .\n",
      ". * . . * . . * .\n",
      "* . . . * . . . *\n"
     ]
    }
   ],
   "source": [
    "n = int(input())\n",
    "a = [['.'] * n for i in range(n)]\n",
    "\n",
    "for i in range(n):\n",
    "    a[i][i] = '*'\n",
    "    a[n // 2][i] = '*'\n",
    "    a[i][n // 2] = '*'\n",
    "    a[i][n-i-1] = '*'\n",
    "\n",
    "for row in a:\n",
    "    print(' '.join(row))"
   ]
  },
  {
   "cell_type": "markdown",
   "metadata": {},
   "source": [
    "# Квадратная матрица"
   ]
  },
  {
   "cell_type": "code",
   "execution_count": 39,
   "metadata": {},
   "outputs": [
    {
     "name": "stdout",
     "output_type": "stream",
     "text": [
      "0 1 2 3 4 5 6 7\n",
      "1 0 1 2 3 4 5 6\n",
      "2 1 0 1 2 3 4 5\n",
      "3 2 1 0 1 2 3 4\n",
      "4 3 2 1 0 1 2 3\n",
      "5 4 3 2 1 0 1 2\n",
      "6 5 4 3 2 1 0 1\n",
      "7 6 5 4 3 2 1 0\n"
     ]
    }
   ],
   "source": [
    "n = int(input())\n",
    "\n",
    "A = [[\"0\"] * n for i in range(n)]\n",
    "\n",
    "for i in range(n):\n",
    "    for j in range(n):\n",
    "        A[i][j] = abs(i - j)\n",
    "        \n",
    "for row in A:\n",
    "    print(' '.join([str(elem) for elem in row]))"
   ]
  },
  {
   "cell_type": "markdown",
   "metadata": {},
   "source": [
    "# Первое вхождение максимального элемента"
   ]
  },
  {
   "cell_type": "code",
   "execution_count": 54,
   "metadata": {},
   "outputs": [
    {
     "name": "stdout",
     "output_type": "stream",
     "text": [
      "0 0\n"
     ]
    }
   ],
   "source": [
    "n, m = [int(i) for i in input().split()]\n",
    "a = [[int(j) for j in input().split()] for i in range(n)]\n",
    "\n",
    "max_i, max_j = 0, 0\n",
    "maximum = [0][0]\n",
    "\n",
    "for i in range(n):\n",
    "    for j in range(m):\n",
    "        if a[i][j] > maximum:\n",
    "            maximum = a[i][j]\n",
    "            max_i, max_j = i, j\n",
    "\n",
    "print(max_i, max_j)"
   ]
  },
  {
   "cell_type": "markdown",
   "metadata": {},
   "source": [
    "# Перестановка соседних элементов"
   ]
  },
  {
   "cell_type": "code",
   "execution_count": 55,
   "metadata": {},
   "outputs": [
    {
     "name": "stdout",
     "output_type": "stream",
     "text": [
      "2 1 4 3\n"
     ]
    }
   ],
   "source": [
    "a = [int(i) for i in input().split()]\n",
    "for i in range(1, len(a), 2):\n",
    "    a[i - 1], a[i] = a[i], a[i - 1]\n",
    "print(' '.join([str(i) for i in a]))"
   ]
  },
  {
   "cell_type": "markdown",
   "metadata": {},
   "source": [
    "# Элементы, которые больше предыдущего"
   ]
  },
  {
   "cell_type": "code",
   "execution_count": null,
   "metadata": {},
   "outputs": [],
   "source": [
    "a = input().split()\n",
    "\n",
    "for i in range(len(a)-1):\n",
    "    if int(a[i+1]) > int(a[i]):\n",
    "        print(a[i+1])"
   ]
  },
  {
   "cell_type": "markdown",
   "metadata": {},
   "source": [
    "# Количество различных элементов"
   ]
  },
  {
   "cell_type": "code",
   "execution_count": null,
   "metadata": {},
   "outputs": [],
   "source": [
    "a = [int(i) for i in input().split()]\n",
    "k = 1\n",
    "\n",
    "for i in range(1, len(a)):\n",
    "    if a[i] != a[i-1]:\n",
    "        k += 1\n",
    "print(k)"
   ]
  },
  {
   "cell_type": "markdown",
   "metadata": {},
   "source": [
    "# Словари"
   ]
  },
  {
   "cell_type": "code",
   "execution_count": 62,
   "metadata": {},
   "outputs": [
    {
     "name": "stdout",
     "output_type": "stream",
     "text": [
      "1 1\n"
     ]
    }
   ],
   "source": [
    "#номер слова\n",
    "\n",
    "n = int(input())\n",
    "A = {}\n",
    "for word in range(n):\n",
    "    kandidat, golos = input().split()\n",
    "    A[kandidat] = A.get(kandidat, 0) + int(golos)\n",
    "\n",
    "for kandidat, golos in sorted(A.items()):\n",
    "    print(kandidat, golos)"
   ]
  },
  {
   "cell_type": "code",
   "execution_count": null,
   "metadata": {},
   "outputs": [],
   "source": [
    "# Англ-лат. словарь\n",
    "\n",
    "from collections import defaultdict\n",
    "\n",
    "latin_eng = defaultdict(list)\n",
    "n = int(input())\n",
    "\n",
    "for i in range(n):\n",
    "    eng_word, latin_version = input().split(' - ')\n",
    "    latin_word = latin_version.split(', ')\n",
    "    for word in latin_word:\n",
    "        latin_eng[word].append(eng_word)\n",
    "\n",
    "print(len(latin_eng))\n",
    "for latin, eng in sorted(latin_eng.items()):\n",
    "    print(latin + ' - ' + ', '.join(eng))"
   ]
  },
  {
   "cell_type": "code",
   "execution_count": null,
   "metadata": {},
   "outputs": [],
   "source": [
    "# права доступа\n",
    "\n",
    "check_dict = {'read': 'R',\n",
    "              'write': 'W',\n",
    "              'execute': 'X'}\n",
    "A = {}\n",
    "\n",
    "for i in range(int(input())):\n",
    "    file, *dostup = input().split()\n",
    "    A[file] = set(dostup)\n",
    "\n",
    "for i in range(int(input())):\n",
    "    operation, file = input().split()\n",
    "    if check_dict[operation] in A[file]:\n",
    "        print('OK')\n",
    "    else:\n",
    "        print('Access denied')"
   ]
  },
  {
   "cell_type": "code",
   "execution_count": 64,
   "metadata": {},
   "outputs": [],
   "source": [
    "# продажи\n",
    "\n",
    "from collections import defaultdict\n",
    "from sys import stdin\n",
    "\n",
    "base = defaultdict(lambda: defaultdict(int))\n",
    "\n",
    "for line in stdin.readlines():\n",
    "    man, item, count = line.split()\n",
    "    base[man][item] += int(count)\n",
    "\n",
    "for man in sorted(base):\n",
    "    print(man + ':')\n",
    "    for item in sorted(base[man]):\n",
    "        print(item, base[man][item])\n"
   ]
  },
  {
   "cell_type": "code",
   "execution_count": null,
   "metadata": {},
   "outputs": [],
   "source": [
    "A = {}\n",
    "n = int(input())\n",
    "\n",
    "for i in range(n):\n",
    "    country, *sities = input().split()\n",
    "    for sity in sities:\n",
    "        A[sity] = country\n",
    "\n",
    "for i in range(int(input())):\n",
    "    print(A[input()])"
   ]
  },
  {
   "cell_type": "markdown",
   "metadata": {},
   "source": [
    "# Ударения"
   ]
  },
  {
   "cell_type": "code",
   "execution_count": null,
   "metadata": {},
   "outputs": [],
   "source": [
    "low_dict = {}\n",
    "error = 0\n",
    "\n",
    "def count_up(word):\n",
    "    up = sum(letter.isupper() for letter in word)\n",
    "    return up\n",
    "\n",
    "for i in range(int(input())):\n",
    "    slovar_word = input()\n",
    "    low_word = slovar_word.lower()\n",
    "    if low_word not in low_dict:\n",
    "        low_dict[low_word] = set()\n",
    "    low_dict[low_word].add(slovar_word)\n",
    "\n",
    "check_word = input().split()\n",
    "for word in check_word:\n",
    "    low_word = word.lower()\n",
    "    if (low_word in low_dict and word not in low_dict[low_word]\n",
    "            or count_up(word) != 1):\n",
    "        error += 1\n",
    "\n",
    "print(error)"
   ]
  },
  {
   "cell_type": "markdown",
   "metadata": {},
   "source": [
    "# Частое слово"
   ]
  },
  {
   "cell_type": "code",
   "execution_count": null,
   "metadata": {},
   "outputs": [],
   "source": [
    "n = int(input())\n",
    "A = {}\n",
    "\n",
    "for i in range(n):\n",
    "    line = input().split()\n",
    "    for word in line:\n",
    "        A[word] = A.get(word, 0) + 1\n",
    "maximalno = max(A.values())\n",
    "minimal_lens = [k for k, v in A.items() if v == maximalno]\n",
    "print(min(minimal_lens))"
   ]
  },
  {
   "cell_type": "markdown",
   "metadata": {},
   "source": [
    "# Частотный анализ слова"
   ]
  },
  {
   "cell_type": "code",
   "execution_count": null,
   "metadata": {},
   "outputs": [],
   "source": [
    "n = int(input())\n",
    "A = {}\n",
    "\n",
    "for i in range(n):\n",
    "    line = input().split()\n",
    "    for word in line:\n",
    "        A[word] = A.get(word, 0) + 1\n",
    "\n",
    "maximum = max(A.values())\n",
    "while maximum > 1:\n",
    "    for key, volues in A.items():\n",
    "        if volues == maximum:\n",
    "            print(key)\n",
    "        maximum -= 1"
   ]
  },
  {
   "cell_type": "markdown",
   "metadata": {},
   "source": [
    "# Наибольшее кол-во определенного символа в строке"
   ]
  },
  {
   "cell_type": "code",
   "execution_count": 67,
   "metadata": {},
   "outputs": [
    {
     "name": "stdout",
     "output_type": "stream",
     "text": [
      "b 2 {'a': 2, 'b': 2, 'o': 1}\n"
     ]
    }
   ],
   "source": [
    "s = 'aboba'\n",
    "dct = {}\n",
    "anscnt = 0\n",
    "ans = ''\n",
    "for sym in s:\n",
    "    if sym not in dct:\n",
    "        dct[sym] = 0\n",
    "    dct[sym] += 1\n",
    "\n",
    "    if dct[sym] > anscnt:\n",
    "        anscnt = dct[sym]\n",
    "        ans = sym\n",
    "        \n",
    "print(ans, anscnt, dct)"
   ]
  },
  {
   "cell_type": "markdown",
   "metadata": {},
   "source": [
    "# Cумма последовательности"
   ]
  },
  {
   "cell_type": "code",
   "execution_count": 68,
   "metadata": {},
   "outputs": [
    {
     "name": "stdout",
     "output_type": "stream",
     "text": [
      "6\n"
     ]
    }
   ],
   "source": [
    "seq = list(map(int, input().split()))\n",
    "sum_ = 0\n",
    "\n",
    "for i in range(len(seq)):\n",
    "    sum_ += seq[i]\n",
    "print(sum_)"
   ]
  },
  {
   "cell_type": "markdown",
   "metadata": {},
   "source": [
    "# Максимум последовательности"
   ]
  },
  {
   "cell_type": "code",
   "execution_count": null,
   "metadata": {},
   "outputs": [],
   "source": [
    "seq = list(map(int, input().split()))\n",
    "\n",
    "if len(seq) == 0:\n",
    "    print('-inf')\n",
    "else:\n",
    "    max_ = seq[0]\n",
    "    for i in range(1, len(seq)):\n",
    "        if seq[i] > max_:\n",
    "            max_ = seq[i]\n",
    "    print(max_)"
   ]
  },
  {
   "cell_type": "markdown",
   "metadata": {},
   "source": [
    "# Решение квадратного уравнения"
   ]
  },
  {
   "cell_type": "code",
   "execution_count": 74,
   "metadata": {},
   "outputs": [
    {
     "name": "stdout",
     "output_type": "stream",
     "text": [
      "-0.30901699437494745 0.8090169943749475\n"
     ]
    }
   ],
   "source": [
    "#ax2 + bx + c\n",
    "from math import sqrt\n",
    "\n",
    "a = int(input())\n",
    "b = int(input())\n",
    "c = int(input())\n",
    "\n",
    "if a == 0:\n",
    "    if b != 0:\n",
    "        print(-c / b)\n",
    "    if b == 0 and c == 0:\n",
    "        print('ups')\n",
    "else:\n",
    "    d = b ** 2 - 4 * a * c\n",
    "    if d == 0:\n",
    "        x1 = -b / (2 * a)\n",
    "        print(x1)\n",
    "    elif d > 0:\n",
    "        x1 = (-b - sqrt(d)) / (2 * a)\n",
    "        x2 = (-b + sqrt(d)) / (2 * a)\n",
    "        if x1 < x2:\n",
    "            print(x1, x2)\n",
    "        else:\n",
    "            print(x2, x1)"
   ]
  },
  {
   "cell_type": "markdown",
   "metadata": {},
   "source": [
    "# Линейный поиск первая встреча"
   ]
  },
  {
   "cell_type": "code",
   "execution_count": 76,
   "metadata": {},
   "outputs": [],
   "source": [
    "def find_first_x(seq, x):\n",
    "    ans = -1 \n",
    "    for i in range(len(seq)):\n",
    "        if ans == -1 and seq[i] == x:\n",
    "            ans = i\n",
    "    return ans"
   ]
  },
  {
   "cell_type": "markdown",
   "metadata": {},
   "source": [
    "# Линейный поиск последняя позиция"
   ]
  },
  {
   "cell_type": "code",
   "execution_count": 77,
   "metadata": {},
   "outputs": [],
   "source": [
    "def find_last_x(seq, x):\n",
    "    ans = -1 \n",
    "    for i in range(len(seq)):\n",
    "        if seq[i] == x:\n",
    "            ans = i\n",
    "    return ans"
   ]
  },
  {
   "cell_type": "markdown",
   "metadata": {},
   "source": [
    "# Максимум, если последовательность не пустая"
   ]
  },
  {
   "cell_type": "code",
   "execution_count": 78,
   "metadata": {},
   "outputs": [],
   "source": [
    "def find_max(seq):\n",
    "    ans = 0\n",
    "    for i in range(0, len(seq)):\n",
    "        if seq[i] > seq[ans]:\n",
    "            ans = i\n",
    "    return seq[ans]"
   ]
  },
  {
   "cell_type": "markdown",
   "metadata": {},
   "source": [
    "# Максимум и 2й максимум"
   ]
  },
  {
   "cell_type": "code",
   "execution_count": 80,
   "metadata": {},
   "outputs": [
    {
     "data": {
      "text/plain": [
       "(4, 3)"
      ]
     },
     "execution_count": 80,
     "metadata": {},
     "output_type": "execute_result"
    }
   ],
   "source": [
    "seq = [2, 1, 4, 3, 1]\n",
    "\n",
    "def maxim_2(seq):\n",
    "    max_1 = max(seq[0], seq[1])\n",
    "    max_2 = min(seq[0], seq[1])\n",
    "    for i in range(len(seq)):\n",
    "        if seq[i] > max_1:\n",
    "            max_2 = max_1\n",
    "            max_1 = seq[i]\n",
    "        elif seq[i] > max_2:\n",
    "            max_2 = seq[i]\n",
    "    return (max_1, max_2)\n",
    "\n",
    "maxim_2(seq)"
   ]
  },
  {
   "cell_type": "markdown",
   "metadata": {},
   "source": [
    "# Минимальное четное"
   ]
  },
  {
   "cell_type": "code",
   "execution_count": 82,
   "metadata": {},
   "outputs": [
    {
     "data": {
      "text/plain": [
       "2"
      ]
     },
     "execution_count": 82,
     "metadata": {},
     "output_type": "execute_result"
    }
   ],
   "source": [
    "def find_min_even(seq):\n",
    "    flag = False\n",
    "    ans = -1\n",
    "    for i in range(len(seq)):\n",
    "        if seq[i] % 2 == 0 and (not flag or seq[i] < ans):\n",
    "            ans = seq[i]\n",
    "            flag = True\n",
    "    return ans\n",
    "\n",
    "find_min_even(seq)"
   ]
  },
  {
   "cell_type": "markdown",
   "metadata": {},
   "source": [
    "# самые короткие слова через пробел"
   ]
  },
  {
   "cell_type": "code",
   "execution_count": 84,
   "metadata": {},
   "outputs": [
    {
     "data": {
      "text/plain": [
       "'aa'"
      ]
     },
     "execution_count": 84,
     "metadata": {},
     "output_type": "execute_result"
    }
   ],
   "source": [
    "def short_words(words):\n",
    "    min_len = len(words[0])\n",
    "    for word in words:\n",
    "        if len(word) < min_len:\n",
    "            min_len = len(word)\n",
    "    ans = []\n",
    "    for word in words:\n",
    "        if len(word) == min_len:\n",
    "            ans.append(word)\n",
    "    return ' '.join(ans)\n",
    "\n",
    "short_words(['aaaa', 'aa', 'buua'])"
   ]
  },
  {
   "cell_type": "markdown",
   "metadata": {},
   "source": [
    "# задача остров крафт зе ворд (сколько воды между кубиками)"
   ]
  },
  {
   "cell_type": "code",
   "execution_count": 85,
   "metadata": {},
   "outputs": [
    {
     "data": {
      "text/plain": [
       "7"
      ]
     },
     "execution_count": 85,
     "metadata": {},
     "output_type": "execute_result"
    }
   ],
   "source": [
    "h = [3, 1, 4, 3, 5, 1, 1, 3, 1]\n",
    "\n",
    "def water(h):\n",
    "    max_pos = 0\n",
    "    for i in range(len(h)):\n",
    "        if h[i] > h[max_pos]:\n",
    "            max_pos = i\n",
    "    ans = 0\n",
    "    now_max = 0\n",
    "    for i in range(max_pos):\n",
    "        if h[i] > now_max:\n",
    "            now_max = h[i]\n",
    "        ans += now_max - h[i]\n",
    "    now_max = 0\n",
    "    for i in range(len(h) - 1, max_pos, -1):\n",
    "        if h[i] > now_max:\n",
    "            now_max = h[i]\n",
    "        ans += now_max - h[i]\n",
    "    return ans\n",
    "\n",
    "water(h)"
   ]
  },
  {
   "cell_type": "markdown",
   "metadata": {},
   "source": [
    "# aaa -> a3"
   ]
  },
  {
   "cell_type": "code",
   "execution_count": 86,
   "metadata": {},
   "outputs": [
    {
     "data": {
      "text/plain": [
       "'a3b5c'"
      ]
     },
     "execution_count": 86,
     "metadata": {},
     "output_type": "execute_result"
    }
   ],
   "source": [
    "def RLE(s):\n",
    "    def pack(s, cnt):\n",
    "        if cnt > 1:\n",
    "            return s + str(cnt)\n",
    "        return s\n",
    "    \n",
    "    last_sym = s[0]\n",
    "    last_pos = 0\n",
    "    ans = []\n",
    "    for i in range(len(s)):\n",
    "        if s[i] != last_sym:\n",
    "            ans.append(pack(last_sym, i - last_pos))\n",
    "            last_pos = i\n",
    "            last_sym = s[i]\n",
    "    ans.append(pack(s[last_pos], len(s) - last_pos))\n",
    "    return ''.join(ans)\n",
    "\n",
    "RLE('aaabbbbbc')"
   ]
  },
  {
   "cell_type": "markdown",
   "metadata": {},
   "source": [
    "# множества"
   ]
  },
  {
   "cell_type": "code",
   "execution_count": 87,
   "metadata": {},
   "outputs": [],
   "source": [
    "\"множество с нуля\"\n",
    "\n",
    "size = 10\n",
    "new_set = [[] for i in range(size)]\n",
    "\n",
    "def add(x):\n",
    "    new_set[x % size].append(x)\n",
    "\n",
    "def find(x):\n",
    "    for i in new_set[x & size]:\n",
    "        if i == x:\n",
    "            return True\n",
    "    return False\n",
    "\n",
    "def delete(x):\n",
    "    xlist = new_set[x % size]\n",
    "    for i in range(len(xlist)):\n",
    "        if xlist[i] == x:\n",
    "            xlist[i] = xlist[len(xlist) - 1]\n",
    "            xlist.pop()\n",
    "            return\n"
   ]
  },
  {
   "cell_type": "markdown",
   "metadata": {},
   "source": [
    "# поиск суммы двух из множества"
   ]
  },
  {
   "cell_type": "code",
   "execution_count": 88,
   "metadata": {},
   "outputs": [
    {
     "data": {
      "text/plain": [
       "(2, 5)"
      ]
     },
     "execution_count": 88,
     "metadata": {},
     "output_type": "execute_result"
    }
   ],
   "source": [
    "def two_(nums, x):\n",
    "    prevnums = set()\n",
    "    for now_num in nums:\n",
    "        if x - now_num in prevnums:\n",
    "            return now_num, x - now_num\n",
    "        prevnums.add(now_num)\n",
    "    return 0, 0\n",
    "\n",
    "two_([1, 3, 5, 8, 2], 7)"
   ]
  },
  {
   "cell_type": "markdown",
   "metadata": {},
   "source": []
  },
  {
   "cell_type": "code",
   "execution_count": null,
   "metadata": {},
   "outputs": [],
   "source": []
  }
 ],
 "metadata": {
  "interpreter": {
   "hash": "e875da07fb70c8caae458d7e2320014aa0af5a4762ecfd5bd04cf4d861557077"
  },
  "kernelspec": {
   "display_name": "Python 3.9.5 64-bit",
   "name": "python3"
  },
  "language_info": {
   "codemirror_mode": {
    "name": "ipython",
    "version": 3
   },
   "file_extension": ".py",
   "mimetype": "text/x-python",
   "name": "python",
   "nbconvert_exporter": "python",
   "pygments_lexer": "ipython3",
   "version": "3.9.5"
  },
  "orig_nbformat": 4
 },
 "nbformat": 4,
 "nbformat_minor": 2
}
